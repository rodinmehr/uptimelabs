{
 "cells": [
  {
   "cell_type": "markdown",
   "id": "648ea863",
   "metadata": {},
   "source": [
    "# Task 001"
   ]
  },
  {
   "cell_type": "code",
   "execution_count": 1,
   "id": "ba2a7e4f",
   "metadata": {},
   "outputs": [],
   "source": [
    "import os\n",
    "from langchain.chat_models import ChatOpenAI\n",
    "from langchain.llms import OpenAI\n",
    "from langchain.agents import tool, Tool, load_tools, initialize_agent, AgentType\n",
    "from langchain.chains.conversation.memory import ConversationBufferWindowMemory, ConversationBufferMemory\n",
    "from langchain.prompts import PromptTemplate\n",
    "from langchain.chains import LLMChain\n",
    "from langchain.agents import ConversationalChatAgent\n",
    "from langchain.chains import SimpleSequentialChain\n",
    "from langchain.chains.summarize import load_summarize_chain\n",
    "from langchain.text_splitter import CharacterTextSplitter\n",
    "from langchain.docstore.document import Document\n",
    "# import langchain\n",
    "## langchain.debug = True\n",
    "# langchain.debug = False\n",
    "# from langchain.agents.format_scratchpad import format_to_openai_functions\n",
    "# from langchain.agents.output_parsers import OpenAIFunctionsAgentOutputParser\n",
    "from langchain.tools import DuckDuckGoSearchRun\n",
    "# from langchain.tools.render import format_tool_to_openai_function\n",
    "from dotenv import load_dotenv\n",
    "\n",
    "load_dotenv()\n",
    "os.environ[\"OPENAI_API_KEY\"] = os.getenv('OPENAI_API_KEY')"
   ]
  },
  {
   "cell_type": "code",
   "execution_count": 2,
   "id": "d35a8a30",
   "metadata": {},
   "outputs": [],
   "source": [
    "class color:\n",
    "   PURPLE = '\\033[95m'\n",
    "   CYAN = '\\033[96m'\n",
    "   DARKCYAN = '\\033[36m'\n",
    "   BLUE = '\\033[94m'\n",
    "   GREEN = '\\033[92m'\n",
    "   YELLOW = '\\033[93m'\n",
    "   RED = '\\033[91m'\n",
    "   BOLD = '\\033[1m'\n",
    "   UNDERLINE = '\\033[4m'\n",
    "   END = '\\033[0m'"
   ]
  },
  {
   "cell_type": "code",
   "execution_count": 3,
   "id": "8e77aa36",
   "metadata": {},
   "outputs": [],
   "source": [
    "teammates = {\n",
    "    \"Ben (CEO)\": {\n",
    "        \"personality\": \"Friendly and supportive\",\n",
    "        \"knowledge_base\": \"Experienced in business strategy\",\n",
    "    },\n",
    "    \"Tyne (CTO)\": {\n",
    "        \"personality\": \"Analytical and technical\",\n",
    "        \"knowledge_base\": \"Expert in machine learning and data pipelines\",\n",
    "    },\n",
    "    \"Da (Assistant)\": {\n",
    "        \"personality\": \"Helpful and informative\",\n",
    "        \"knowledge_base\": \"Access to a wide range of information\",\n",
    "    },\n",
    "}\n",
    "\n",
    "incidents = [{\n",
    "    \"description\": \"Data pipeline issue causing recommendation model degradation\",\n",
    "    \"impact\": \"Revenue loss and customer dissatisfaction\",\n",
    "    \"assigned_to\": \"Tyne (CTO)\",\n",
    "    },\n",
    "    {\n",
    "    \"description\": \"Issue with recent commit to the production environment\",\n",
    "    \"impact\": \"Revenue loss and customer dissatisfaction\",\n",
    "    \"assigned_to\": \"Tyne (CTO)\",\n",
    "    },\n",
    "    {\n",
    "    \"description\": \"The way data is stored\",\n",
    "    \"impact\": \"Revenue loss and customer dissatisfaction\",\n",
    "    \"assigned_to\": \"Tyne (CTO)\",\n",
    "    }\n",
    "]"
   ]
  },
  {
   "cell_type": "markdown",
   "id": "fc0da92b",
   "metadata": {},
   "source": [
    "## Duck Duck go search"
   ]
  },
  {
   "cell_type": "code",
   "execution_count": 4,
   "id": "4ff99f19",
   "metadata": {},
   "outputs": [],
   "source": [
    "ddg_search = DuckDuckGoSearchRun()\n",
    "\n",
    "ddg_search_tool = Tool(\n",
    "    name=\"Duck Duck go Search\",\n",
    "    description=\"Search Duck Duck go for recent results.\",\n",
    "    func=ddg_search.run,\n",
    ")"
   ]
  },
  {
   "cell_type": "code",
   "execution_count": 5,
   "id": "4282dbaf",
   "metadata": {},
   "outputs": [
    {
     "name": "stderr",
     "output_type": "stream",
     "text": [
      "/home/mahsa/anaconda3/lib/python3.9/site-packages/duckduckgo_search/compat.py:20: UserWarning: ddg is deprecated. Use DDGS().text() generator\n",
      "  warnings.warn(\"ddg is deprecated. Use DDGS().text() generator\")\n",
      "/home/mahsa/anaconda3/lib/python3.9/site-packages/duckduckgo_search/compat.py:22: UserWarning: parameter time is deprecated, use parameter timelimit\n",
      "  warnings.warn(\"parameter time is deprecated, use parameter timelimit\")\n",
      "/home/mahsa/anaconda3/lib/python3.9/site-packages/duckduckgo_search/compat.py:24: UserWarning: parameter page is deprecated, use DDGS().text() generator\n",
      "  warnings.warn(\"parameter page is deprecated, use DDGS().text() generator\")\n",
      "/home/mahsa/anaconda3/lib/python3.9/site-packages/duckduckgo_search/compat.py:26: UserWarning: parameter max_results is deprecated, use DDGS().text()\n",
      "  warnings.warn(\"parameter max_results is deprecated, use DDGS().text()\")\n"
     ]
    },
    {
     "data": {
      "text/plain": [
       "\"05/29/2023 3 contributors Feedback In this article After submitting a pipeline, you'll see a link to the pipeline job in your Azure Machine Learning workspace. The link lands you in the pipeline job page in Azure Machine Learning studio, in which you can check result and debug your pipeline job. In this article, you learn how to troubleshoot when you get errors running a machine learning pipeline in the Azure Machine Learning SDK and Azure Machine Learning designer. Troubleshooting tips The following table contains common problems during pipeline development, with potential solutions. Authentication errors Published in. Acing AI. ·. 6 min read. ·. Apr 30, 2020. Incident management starts with realizing that there is an active incident with one of the ML application systems. Critical areas for ML ... 06/01/2023 6 contributors Feedback In this article APPLIES TO:Python SDK azureml v1 In this article, you learn how to create and run machine learning pipelinesby using the Azure Machine Learning SDK. Use ML pipelinesto create a workflow that stitches together various ML phases. Analyze pipeline health. Databand provides one view for all your pipelines so you can easily diagnose their health. From the pipelines screen, you can see all the existing pipelines that we are running and tracking. You can see the run status and any alerts associated with them. You can search on the pipeline projects that you want to dive into.\""
      ]
     },
     "execution_count": 5,
     "metadata": {},
     "output_type": "execute_result"
    }
   ],
   "source": [
    "ddg_search_tool.run(\"Find an incident in machine learning pipeline.\")"
   ]
  },
  {
   "cell_type": "markdown",
   "id": "1e992cf0",
   "metadata": {},
   "source": [
    "## Da (Assistant)"
   ]
  },
  {
   "cell_type": "code",
   "execution_count": 6,
   "id": "cdf37b32",
   "metadata": {},
   "outputs": [],
   "source": [
    "da_llm = ChatOpenAI(temperature=0.0)\n",
    "\n",
    "# Chain1 - get the incident\n",
    "\n",
    "template_incident = \"\"\"You are an incident solver. You are {personality}. Given an incident,\\n\n",
    " it is your job to suggest an appropriate solution for it. You have {knowledge_base}.\n",
    "\n",
    "Incident:\n",
    "{incident}\n",
    "Suggest solution:\"\"\".format(personality=teammates[\"Da (Assistant)\"]['personality'], knowledge_base=teammates[\"Da (Assistant)\"]['knowledge_base'], incident=\"{incident}\")\n",
    "prompt_template_incident = PromptTemplate(input_variables=[\"incident\"], template=template_incident)\n",
    "chain_one = LLMChain(llm=da_llm, prompt=prompt_template_incident) \n",
    "\n",
    "# Chain2 - you can search the internet for the solution\n",
    "template_internet = \"\"\"You are an incident solover that can use the internet to find the appropriate solution\\n\n",
    " for the problem. You are {personality}. You have {knowledge_base}.\n",
    "\n",
    "Incident:\n",
    "{incident}\n",
    "Suggest solution:\"\"\".format(personality=teammates[\"Da (Assistant)\"]['personality'], knowledge_base=teammates[\"Da (Assistant)\"]['knowledge_base'], incident=\"{incident}\")\n",
    "prompt_template_internet = PromptTemplate(input_variables=[\"incident\"], template=template_internet)\n",
    "chain_two = LLMChain(llm=da_llm, prompt=prompt_template_internet) \n",
    "da_overall_chain = SimpleSequentialChain(\n",
    "                  chains=[chain_one, chain_two],\n",
    "                  verbose=True)"
   ]
  },
  {
   "cell_type": "code",
   "execution_count": 7,
   "id": "bdf03096",
   "metadata": {},
   "outputs": [
    {
     "name": "stdout",
     "output_type": "stream",
     "text": [
      "\n",
      "\n",
      "\u001b[1m> Entering new SimpleSequentialChain chain...\u001b[0m\n",
      "\u001b[36;1m\u001b[1;3m1. Identify the issue: Start by investigating the specific problem with the recent commit. Look for any error messages, logs, or any other indicators that can help pinpoint the root cause of the issue.\n",
      "\n",
      "2. Rollback the commit: If the issue is critical and impacting the production environment, consider rolling back the recent commit to revert the changes and restore the system to its previous stable state. This can be done by reverting the commit or restoring a previous version of the code from a backup.\n",
      "\n",
      "3. Analyze the code changes: Once the immediate issue is resolved, thoroughly review the code changes made in the recent commit. Look for any potential bugs, compatibility issues, or unintended consequences that might have caused the problem. Collaborate with the development team to understand the changes and identify any necessary fixes.\n",
      "\n",
      "4. Test and validate: Before deploying any fixes or changes to the production environment, thoroughly test them in a controlled environment such as a staging or testing environment. This will help ensure that the issue is resolved and that the changes do not introduce any new problems.\n",
      "\n",
      "5. Communicate with stakeholders: Keep all relevant stakeholders informed about the incident, the actions taken, and the expected timeline for resolution. This includes the development team, project managers, and any other individuals or teams impacted by the issue.\n",
      "\n",
      "6. Implement the fix: Once the code changes have been thoroughly tested and validated, deploy the fix to the production environment. Follow proper deployment procedures, such as using a version control system, ensuring proper documentation, and conducting any necessary post-deployment checks.\n",
      "\n",
      "7. Monitor and follow up: After the fix has been deployed, closely monitor the production environment to ensure that the issue is fully resolved and that there are no further complications. Conduct regular follow-ups with the development team to address any remaining concerns or to implement any additional improvements or preventive measures.\n",
      "\n",
      "8. Learn from the incident: After the incident has been resolved, conduct a post-mortem analysis to identify the root cause of the issue and to learn from the incident. This can help prevent similar issues from occurring in the future and improve the overall development and deployment processes.\u001b[0m\n",
      "\u001b[33;1m\u001b[1;3mBased on the incident described, here is a suggested solution:\n",
      "\n",
      "1. Identify the issue: Investigate the specific problem with the recent commit by reviewing error messages, logs, and other indicators.\n",
      "\n",
      "2. Rollback the commit: If the issue is critical and impacting production, consider rolling back the recent commit to restore the system to its previous stable state.\n",
      "\n",
      "3. Analyze the code changes: Thoroughly review the code changes made in the recent commit to identify potential bugs, compatibility issues, or unintended consequences. Collaborate with the development team to understand the changes and identify necessary fixes.\n",
      "\n",
      "4. Test and validate: Test the fixes in a controlled environment, such as a staging or testing environment, to ensure the issue is resolved and no new problems are introduced.\n",
      "\n",
      "5. Communicate with stakeholders: Keep all relevant stakeholders informed about the incident, actions taken, and expected resolution timeline.\n",
      "\n",
      "6. Implement the fix: Deploy the thoroughly tested and validated fix to the production environment following proper deployment procedures.\n",
      "\n",
      "7. Monitor and follow up: Closely monitor the production environment to ensure the issue is fully resolved and conduct regular follow-ups with the development team to address any remaining concerns or implement additional improvements.\n",
      "\n",
      "8. Learn from the incident: Conduct a post-mortem analysis to identify the root cause of the issue and learn from the incident to prevent similar issues in the future and improve development and deployment processes.\n",
      "\n",
      "Remember to adapt the solution to the specific incident and consider any additional steps or actions that may be necessary based on the nature of the problem.\u001b[0m\n",
      "\n",
      "\u001b[1m> Finished chain.\u001b[0m\n"
     ]
    }
   ],
   "source": [
    "# question = \"An incident in the machine learning pipeline has happened. What can we do?\"\n",
    "question = incidents[1][\"description\"] + \"What can we do?\"\n",
    "da_result = da_overall_chain.run(question)"
   ]
  },
  {
   "cell_type": "code",
   "execution_count": 8,
   "id": "d51baa2b",
   "metadata": {},
   "outputs": [],
   "source": [
    "# print(da_result)"
   ]
  },
  {
   "cell_type": "code",
   "execution_count": 9,
   "id": "55c43683",
   "metadata": {},
   "outputs": [
    {
     "name": "stdout",
     "output_type": "stream",
     "text": [
      "\u001b[1mSolution to the incident: \u001b[0m  This suggested solution outlines 8 steps to address an incident with a recent commit, including identifying the issue, rolling back the commit, analyzing the code changes, testing and validating, communicating with stakeholders, implementing the fix, monitoring and following up, and learning from the incident. The solution should be adapted to the specific incident and any additional steps may be necessary.\n"
     ]
    }
   ],
   "source": [
    "try:\n",
    "    # Split the source text\n",
    "    text_splitter = CharacterTextSplitter()\n",
    "    texts = text_splitter.split_text(da_result)\n",
    "\n",
    "    # Create Document objects for the texts\n",
    "    docs = [Document(page_content=t) for t in texts[:3]]\n",
    "\n",
    "    # Initialize the OpenAI module, load and run the summarize chain\n",
    "    llm = OpenAI(temperature=0)\n",
    "    #chain = load_summarize_chain(llm, chain_type=\"map_reduce\")\n",
    "    chain = load_summarize_chain(llm, chain_type=\"stuff\")\n",
    "    da_summary = chain.run(docs)\n",
    "\n",
    "    # Display summary\n",
    "    print(color.BOLD + \"Solution to the incident: \" + color.END , da_summary)\n",
    "except Exception as e:\n",
    "    print(\"An error occurred: {}\".format(e))"
   ]
  },
  {
   "cell_type": "markdown",
   "id": "5d135f18",
   "metadata": {},
   "source": [
    "## Tyne (CTO)"
   ]
  },
  {
   "cell_type": "code",
   "execution_count": 10,
   "id": "d356392c",
   "metadata": {},
   "outputs": [],
   "source": [
    "tyne_llm = ChatOpenAI(temperature=0.0)\n",
    "\n",
    "# Chain1 - get the incident\n",
    "\n",
    "template_incident = \"\"\"You are an incident solver. You are {personality}. Given an incident,\\n\n",
    " it is your job to suggest an appropriate solution for it. You have {knowledge_base}.\n",
    "\n",
    "Incident:\n",
    "{incident}\n",
    "Suggest solution:\"\"\".format(personality=teammates[\"Tyne (CTO)\"]['personality'], knowledge_base=teammates[\"Tyne (CTO)\"]['knowledge_base'], incident=\"{incident}\")\n",
    "prompt_template_incident = PromptTemplate(input_variables=[\"incident\"], template=template_incident)\n",
    "chain_one = LLMChain(llm=tyne_llm, prompt=prompt_template_incident) \n",
    "\n",
    "# Chain2 - you can search the internet for the solution\n",
    "template_internet = \"\"\"You are an incident solover that can use the internet to find the appropriate solution\\n\n",
    " for the problem. You are {personality}. You have {knowledge_base}.\n",
    "\n",
    "Incident:\n",
    "{incident}\n",
    "Suggest solution:\"\"\".format(personality=teammates[\"Tyne (CTO)\"]['personality'], knowledge_base=teammates[\"Tyne (CTO)\"]['knowledge_base'], incident=\"{incident}\")\n",
    "prompt_template_internet = PromptTemplate(input_variables=[\"incident\"], template=template_internet)\n",
    "chain_two = LLMChain(llm=tyne_llm, prompt=prompt_template_internet) \n",
    "tyne_overall_chain = SimpleSequentialChain(\n",
    "                  chains=[chain_one, chain_two],\n",
    "                  verbose=True)"
   ]
  },
  {
   "cell_type": "code",
   "execution_count": 11,
   "id": "dc0bcab7",
   "metadata": {},
   "outputs": [
    {
     "name": "stdout",
     "output_type": "stream",
     "text": [
      "\n",
      "\n",
      "\u001b[1m> Entering new SimpleSequentialChain chain...\u001b[0m\n",
      "\u001b[36;1m\u001b[1;3m1. Identify the root cause: Start by investigating the recent commit that caused the issue. Analyze the code changes, dependencies, and any related logs or error messages to understand what went wrong.\n",
      "\n",
      "2. Rollback the commit: If the issue is critical and impacting the production environment, consider rolling back the recent commit to restore the system to a stable state. This can be done by reverting the code changes and deploying the previous version that was working correctly.\n",
      "\n",
      "3. Debug and fix the issue: If rolling back the commit is not feasible or doesn't resolve the problem, focus on debugging and fixing the issue. Use debugging tools, log analysis, and any available error information to identify the specific problem in the code. Once identified, make the necessary code changes to resolve the issue.\n",
      "\n",
      "4. Test and validate the fix: After making the code changes, thoroughly test the fix in a non-production environment to ensure it resolves the issue without introducing any new problems. This can involve unit testing, integration testing, and any other relevant testing methodologies.\n",
      "\n",
      "5. Deploy the fix to production: Once the fix has been validated, deploy it to the production environment. Follow the established deployment process, ensuring proper version control and documentation.\n",
      "\n",
      "6. Monitor and verify: After deploying the fix, closely monitor the production environment to ensure that the issue has been fully resolved and there are no unexpected side effects. Use monitoring tools, logs, and user feedback to verify the effectiveness of the solution.\n",
      "\n",
      "7. Learn from the incident: Conduct a post-incident review to understand the factors that led to the issue and identify any process or code improvements that can prevent similar incidents in the future. Document the lessons learned and share them with the team to enhance overall system reliability.\n",
      "\n",
      "Additionally, as an expert in machine learning and data pipelines, you can leverage these skills to analyze any relevant data or logs to identify patterns or anomalies that may have contributed to the incident. This can help in proactively identifying potential issues and implementing preventive measures.\u001b[0m\n",
      "\u001b[33;1m\u001b[1;3mBased on the incident described, here is a suggested solution:\n",
      "\n",
      "1. Identify the root cause: Start by analyzing the recent commit that caused the issue. Review the code changes, dependencies, and any related logs or error messages to understand what went wrong. Use your expertise in machine learning and data pipelines to analyze any relevant data or logs for patterns or anomalies that may have contributed to the incident.\n",
      "\n",
      "2. Rollback the commit: If the issue is critical and impacting the production environment, consider rolling back the recent commit to restore the system to a stable state. Revert the code changes and deploy the previous version that was working correctly.\n",
      "\n",
      "3. Debug and fix the issue: If rolling back the commit is not feasible or doesn't resolve the problem, focus on debugging and fixing the issue. Utilize debugging tools, log analysis, and any available error information to identify the specific problem in the code. Leverage your expertise in machine learning and data pipelines to analyze any relevant data or logs for further insights.\n",
      "\n",
      "4. Test and validate the fix: After making the necessary code changes, thoroughly test the fix in a non-production environment. Use unit testing, integration testing, and any other relevant testing methodologies to ensure the fix resolves the issue without introducing new problems.\n",
      "\n",
      "5. Deploy the fix to production: Once the fix has been validated, deploy it to the production environment following the established deployment process. Ensure proper version control and documentation.\n",
      "\n",
      "6. Monitor and verify: After deploying the fix, closely monitor the production environment to ensure the issue has been fully resolved and there are no unexpected side effects. Utilize monitoring tools, logs, and user feedback to verify the effectiveness of the solution. Leverage your expertise in machine learning and data pipelines to analyze any relevant data or logs for ongoing monitoring and proactive identification of potential issues.\n",
      "\n",
      "7. Learn from the incident: Conduct a post-incident review to understand the factors that led to the issue. Identify any process or code improvements that can prevent similar incidents in the future. Document the lessons learned and share them with the team to enhance overall system reliability. Utilize your expertise in machine learning and data pipelines to identify any patterns or anomalies in the incident data that can help in implementing preventive measures.\n",
      "\n",
      "By following these steps and leveraging your analytical and technical skills, you can effectively solve the incident and prevent similar issues in the future.\u001b[0m\n",
      "\n",
      "\u001b[1m> Finished chain.\u001b[0m\n"
     ]
    }
   ],
   "source": [
    "question = incidents[1][\"description\"] + \"What can we do?\"\n",
    "tyne_result = tyne_overall_chain.run(question)"
   ]
  },
  {
   "cell_type": "code",
   "execution_count": 12,
   "id": "e05f25f8",
   "metadata": {},
   "outputs": [
    {
     "name": "stdout",
     "output_type": "stream",
     "text": [
      "\u001b[1mSolution to the incident: \u001b[0m  This suggested solution outlines a seven-step process for resolving an incident and preventing similar issues in the future. The steps involve identifying the root cause, rolling back the commit, debugging and fixing the issue, testing and validating the fix, deploying the fix to production, monitoring and verifying the fix, and learning from the incident. The solution also emphasizes the importance of leveraging analytical and technical skills, such as machine learning and data pipelines, to identify patterns and anomalies in the incident data.\n"
     ]
    }
   ],
   "source": [
    "try:\n",
    "    # Split the source text\n",
    "    text_splitter = CharacterTextSplitter()\n",
    "    texts = text_splitter.split_text(tyne_result)\n",
    "\n",
    "    # Create Document objects for the texts\n",
    "    docs = [Document(page_content=t) for t in texts[:3]]\n",
    "\n",
    "    # Initialize the OpenAI module, load and run the summarize chain\n",
    "    llm = OpenAI(temperature=0)\n",
    "    #chain = load_summarize_chain(llm, chain_type=\"map_reduce\")\n",
    "    chain = load_summarize_chain(llm, chain_type=\"stuff\")\n",
    "    tyne_summary = chain.run(docs)\n",
    "\n",
    "    # Display summary\n",
    "    print(color.BOLD + \"Solution to the incident: \" + color.END , tyne_summary)\n",
    "except Exception as e:\n",
    "    print(\"An error occurred: {}\".format(e))"
   ]
  },
  {
   "cell_type": "markdown",
   "id": "99035a65",
   "metadata": {},
   "source": [
    "## Ben (CEO)"
   ]
  },
  {
   "cell_type": "code",
   "execution_count": 13,
   "id": "c9842dc5",
   "metadata": {},
   "outputs": [],
   "source": [
    "ben_llm = ChatOpenAI(temperature=0.0)\n",
    "\n",
    "# Chain1 - get the incident\n",
    "\n",
    "template_incident = \"\"\"You are an incident solver. You are {personality}. Given an incident,\\n\n",
    " it is your job to suggest an appropriate solution for it. You have {knowledge_base}.\n",
    "\n",
    "Incident:\n",
    "{incident}\n",
    "Suggest solution:\"\"\".format(personality=teammates[\"Ben (CEO)\"]['personality'], knowledge_base=teammates[\"Ben (CEO)\"]['knowledge_base'], incident=\"{incident}\")\n",
    "prompt_template_incident = PromptTemplate(input_variables=[\"incident\"], template=template_incident)\n",
    "chain_one = LLMChain(llm=ben_llm, prompt=prompt_template_incident) \n",
    "\n",
    "# Chain2 - you can search the internet for the solution\n",
    "template_internet = \"\"\"You are an incident solover that can use the internet to find the appropriate solution\\n\n",
    " for the problem. You are {personality}. You have {knowledge_base}.\n",
    "\n",
    "Incident:\n",
    "{incident}\n",
    "Suggest solution:\"\"\".format(personality=teammates[\"Ben (CEO)\"]['personality'], knowledge_base=teammates[\"Ben (CEO)\"]['knowledge_base'], incident=\"{incident}\")\n",
    "prompt_template_internet = PromptTemplate(input_variables=[\"incident\"], template=template_internet)\n",
    "chain_two = LLMChain(llm=ben_llm, prompt=prompt_template_internet) \n",
    "ben_overall_chain = SimpleSequentialChain(\n",
    "                  chains=[chain_one, chain_two],\n",
    "                  verbose=True)"
   ]
  },
  {
   "cell_type": "code",
   "execution_count": 14,
   "id": "b356ba85",
   "metadata": {},
   "outputs": [
    {
     "name": "stdout",
     "output_type": "stream",
     "text": [
      "\n",
      "\n",
      "\u001b[1m> Entering new SimpleSequentialChain chain...\u001b[0m\n",
      "\u001b[36;1m\u001b[1;3mSolution: \n",
      "\n",
      "1. Identify the root cause: The first step is to investigate and identify the root cause of the issue with the recent commit. This can be done by reviewing the code changes, analyzing the logs, and involving the development team responsible for the commit.\n",
      "\n",
      "2. Rollback the commit: If the issue is critical and impacting the production environment, it is advisable to rollback the recent commit to restore the system to its previous stable state. This can be done by reverting the code changes and deploying the previous version of the software.\n",
      "\n",
      "3. Communicate with stakeholders: It is important to communicate the incident and the actions being taken to relevant stakeholders, including the development team, project managers, and any other affected parties. This will ensure transparency and keep everyone informed about the situation.\n",
      "\n",
      "4. Conduct a post-mortem analysis: After resolving the immediate issue, it is crucial to conduct a thorough post-mortem analysis to understand what went wrong and how to prevent similar incidents in the future. This analysis should involve all relevant teams and focus on identifying any gaps in the development process, testing procedures, or deployment practices.\n",
      "\n",
      "5. Implement preventive measures: Based on the findings from the post-mortem analysis, implement necessary preventive measures to avoid similar incidents in the future. This may include improving code review processes, enhancing testing procedures, implementing stricter deployment controls, or providing additional training to the development team.\n",
      "\n",
      "6. Monitor and review: Continuously monitor the system after the incident has been resolved to ensure stability and identify any potential issues early on. Regularly review the incident response process and make necessary adjustments to improve its effectiveness.\n",
      "\n",
      "Remember to approach the situation with a friendly and supportive attitude, emphasizing the importance of learning from mistakes and working together to prevent future incidents.\u001b[0m\n",
      "\u001b[33;1m\u001b[1;3mBased on the incident described, the suggested solution would be to follow the steps outlined above:\n",
      "\n",
      "1. Identify the root cause: Investigate and analyze the recent commit to determine the cause of the issue.\n",
      "\n",
      "2. Rollback the commit: If necessary, revert the code changes and deploy the previous stable version of the software.\n",
      "\n",
      "3. Communicate with stakeholders: Inform the relevant parties about the incident and the actions being taken to resolve it.\n",
      "\n",
      "4. Conduct a post-mortem analysis: Analyze what went wrong and identify areas for improvement in the development, testing, and deployment processes.\n",
      "\n",
      "5. Implement preventive measures: Based on the findings from the analysis, implement measures to prevent similar incidents in the future.\n",
      "\n",
      "6. Monitor and review: Continuously monitor the system and regularly review the incident response process to ensure stability and effectiveness.\n",
      "\n",
      "Approach the situation with a friendly and supportive attitude, emphasizing the importance of learning from mistakes and working together to prevent future incidents.\u001b[0m\n",
      "\n",
      "\u001b[1m> Finished chain.\u001b[0m\n"
     ]
    }
   ],
   "source": [
    "question = incidents[1][\"description\"] + \"What can we do?\"\n",
    "ben_result = ben_overall_chain.run(question)"
   ]
  },
  {
   "cell_type": "code",
   "execution_count": 15,
   "id": "9a168148",
   "metadata": {},
   "outputs": [
    {
     "name": "stdout",
     "output_type": "stream",
     "text": [
      "\u001b[1mSolution to the incident: \u001b[0m  In the event of an incident, the suggested solution is to identify the root cause, rollback the commit, communicate with stakeholders, conduct a post-mortem analysis, implement preventive measures, and monitor and review. It is important to approach the situation with a friendly and supportive attitude, emphasizing the importance of learning from mistakes and working together to prevent future incidents.\n"
     ]
    }
   ],
   "source": [
    "try:\n",
    "    # Split the source text\n",
    "    text_splitter = CharacterTextSplitter()\n",
    "    texts = text_splitter.split_text(ben_result)\n",
    "\n",
    "    # Create Document objects for the texts\n",
    "    docs = [Document(page_content=t) for t in texts[:3]]\n",
    "\n",
    "    # Initialize the OpenAI module, load and run the summarize chain\n",
    "    llm = OpenAI(temperature=0)\n",
    "    #chain = load_summarize_chain(llm, chain_type=\"map_reduce\")\n",
    "    chain = load_summarize_chain(llm, chain_type=\"stuff\")\n",
    "    ben_summary = chain.run(docs)\n",
    "\n",
    "    # Display summary\n",
    "    print(color.BOLD + \"Solution to the incident: \" + color.END , ben_summary)\n",
    "except Exception as e:\n",
    "    print(\"An error occurred: {}\".format(e))"
   ]
  },
  {
   "cell_type": "markdown",
   "id": "d57dd322",
   "metadata": {},
   "source": [
    "## Mix all the results"
   ]
  },
  {
   "cell_type": "code",
   "execution_count": 17,
   "id": "949f3b0a",
   "metadata": {},
   "outputs": [
    {
     "name": "stdout",
     "output_type": "stream",
     "text": [
      "\u001b[1mSolution to the incident: \u001b[0m  This suggested solution outlines a seven-step process for resolving an incident and preventing similar issues in the future. The steps involve identifying the root cause, rolling back the commit, debugging and fixing the issue, testing and validating the fix, deploying the fix to production, monitoring and verifying the fix, and learning from the incident. Leveraging analytical and technical skills, such as machine learning and data pipelines, is also emphasized. The suggested solution should be adapted to the specific incident and any additional steps may be necessary.\n"
     ]
    }
   ],
   "source": [
    "try:\n",
    "    # Split the source text\n",
    "    text_splitter = CharacterTextSplitter()\n",
    "    texts = text_splitter.split_text(da_summary+tyne_summary+ben_summary)\n",
    "\n",
    "    # Create Document objects for the texts\n",
    "    docs = [Document(page_content=t) for t in texts[:3]]\n",
    "\n",
    "    # Initialize the OpenAI module, load and run the summarize chain\n",
    "    llm = OpenAI(temperature=0)\n",
    "    #chain = load_summarize_chain(llm, chain_type=\"map_reduce\")\n",
    "    chain = load_summarize_chain(llm, chain_type=\"stuff\")\n",
    "    overall_summary = chain.run(docs)\n",
    "\n",
    "    # Display summary\n",
    "    print(color.BOLD + \"Solution to the incident: \" + color.END , overall_summary)\n",
    "except Exception as e:\n",
    "    print(\"An error occurred: {}\".format(e))"
   ]
  },
  {
   "cell_type": "code",
   "execution_count": null,
   "id": "e1a8b2df",
   "metadata": {},
   "outputs": [],
   "source": []
  }
 ],
 "metadata": {
  "kernelspec": {
   "display_name": "Python 3 (ipykernel)",
   "language": "python",
   "name": "python3"
  },
  "language_info": {
   "codemirror_mode": {
    "name": "ipython",
    "version": 3
   },
   "file_extension": ".py",
   "mimetype": "text/x-python",
   "name": "python",
   "nbconvert_exporter": "python",
   "pygments_lexer": "ipython3",
   "version": "3.9.12"
  }
 },
 "nbformat": 4,
 "nbformat_minor": 5
}
